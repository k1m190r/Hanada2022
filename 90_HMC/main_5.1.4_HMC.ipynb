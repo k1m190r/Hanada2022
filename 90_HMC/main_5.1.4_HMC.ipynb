{
 "cells": [
  {
   "cell_type": "code",
   "execution_count": 2,
   "metadata": {},
   "outputs": [
    {
     "data": {
      "text/plain": [
       "{'divide': 'ignore', 'over': 'warn', 'under': 'ignore', 'invalid': 'ignore'}"
      ]
     },
     "execution_count": 2,
     "metadata": {},
     "output_type": "execute_result"
    }
   ],
   "source": [
    "import numpy as np\n",
    "from numba import njit\n",
    "import matplotlib.pyplot as plt\n",
    "\n",
    "from numpy import pi, sqrt, log, sin, cos, exp\n",
    "from numpy.random import rand\n",
    "\n",
    "np.seterr(divide=\"ignore\", invalid=\"ignore\")"
   ]
  },
  {
   "cell_type": "markdown",
   "metadata": {},
   "source": [
    "1. $p_i$ conjugate to $x_i$ ← 𝒩\n",
    "2. MD: $x_i(τ)$ and $p_i(τ)$ ← leap frog\n",
    "- τ: 0 ... $τ_{fin}$ \n",
    "$$ H({x},{p})=S({x}) + 0.5∑_i p_i^2 \\tag{5.1} $$\n",
    "3. $H_{init}(τ=0)$ and $H_{fin}(τ_{fin})$.\n",
    "4. MetroTest: $x_i^{k+1}=[min(1,exp[H_{init}-H_{fin}])]:x_i(τ_{fin}):x_i^k$"
   ]
  },
  {
   "cell_type": "markdown",
   "metadata": {},
   "source": [
    "# HMC Algo\n",
    "\n",
    "1. start:\n",
    "- $ x_i(dt/2) = x_i(0) + p_i(0)⋅dt/2 $\n",
    "2. MD:\n",
    "- for $n=1...N_τ-1$:\n",
    "- $ p_i(n dt)      = p_i((n-1)dt)   - ∂S_{x_i}((n-1/2)dt)⋅dt $\n",
    "- $ x_i((n+1/2)dt) = x_i((n-1/2)dt) + p_i(n dt)⋅dt $\n",
    "3. finally:\n",
    "- $ p_i(N_τ dt) = p_i((N_τ-1)dt)    - ∂S_{x_i}((N_τ-1/2)dt)⋅dt $\n",
    "- $ x_i(N_τ dt) = x_i((N_τ-1/2) dt) + p_i(N_τ dt)⋅dt/2 $\n"
   ]
  },
  {
   "cell_type": "code",
   "execution_count": 3,
   "metadata": {},
   "outputs": [
    {
     "name": "stdout",
     "output_type": "stream",
     "text": [
      "0.98458\n"
     ]
    },
    {
     "data": {
      "image/png": "[encoded data removed]",
      "text/plain": [
       "<Figure size 640x480 with 1 Axes>"
      ]
     },
     "metadata": {},
     "output_type": "display_data"
    }
   ],
   "source": [
    "K = 100_000\n",
    "n_tau = 10\n",
    "d_tau = 0.1\n",
    "\n",
    "# box_miller\n",
    "R = rand(K)\n",
    "S = rand(K)\n",
    "P = sqrt(-2 * log(R)) * sin(2 * pi * S)\n",
    "Q = sqrt(-2 * log(R)) * cos(2 * pi * S)\n",
    "\n",
    "\n",
    "@njit\n",
    "def action(x):\n",
    "    return 0.5 * x**2\n",
    "\n",
    "\n",
    "@njit\n",
    "def hamil(x, p):\n",
    "    return action(x) + 0.5 * p**2\n",
    "\n",
    "\n",
    "@njit\n",
    "def del_h(x):\n",
    "    return x\n",
    "\n",
    "\n",
    "@njit\n",
    "def MD(k, x):\n",
    "    p = P[k]\n",
    "    init = hamil(x, p)\n",
    "\n",
    "    x = x + p * 0.5 * d_tau\n",
    "\n",
    "    for _ in range(n_tau):\n",
    "        _del_h = del_h(x)\n",
    "        p = p - _del_h * d_tau\n",
    "        x = x + p * d_tau\n",
    "\n",
    "    _del_h = del_h(x)\n",
    "    p = p - _del_h * d_tau\n",
    "    x = x + p * d_tau\n",
    "\n",
    "    fin = hamil(x, p)\n",
    "    return x, init, fin\n",
    "\n",
    "\n",
    "@njit\n",
    "def main():\n",
    "    X = np.full(K, np.nan)\n",
    "    A = np.full(K, False) # Accept\n",
    "    M = rand(K) # Metropolis\n",
    "\n",
    "    X[0] = 0\n",
    "\n",
    "    for k in range(1, K):\n",
    "        X[k], init, fin = MD(k, X[k - 1])\n",
    "        A[k] = exp(init - fin) > M[k]\n",
    "        X[k] = X[k] if A[k] else X[k - 1]\n",
    "\n",
    "    return X, A\n",
    "\n",
    "\n",
    "X, A = main()\n",
    "\n",
    "##################################################\n",
    "\n",
    "plt.hist(X, 1_000, density=True)\n",
    "\n",
    "x = np.linspace(-5, 5, 1000)\n",
    "y = 1.0 / np.sqrt(2.0 * np.pi) * np.exp(-x * x / 2.0)\n",
    "plt.plot(x, y)\n",
    "\n",
    "print(A.sum() / K)"
   ]
  },
  {
   "cell_type": "code",
   "execution_count": null,
   "metadata": {},
   "outputs": [],
   "source": []
  },
  {
   "cell_type": "code",
   "execution_count": null,
   "metadata": {},
   "outputs": [],
   "source": []
  },
  {
   "cell_type": "code",
   "execution_count": null,
   "metadata": {},
   "outputs": [],
   "source": []
  },
  {
   "cell_type": "code",
   "execution_count": null,
   "metadata": {},
   "outputs": [],
   "source": []
  }
 ],
 "metadata": {
  "kernelspec": {
   "display_name": ".venv",
   "language": "python",
   "name": "python3"
  },
  "language_info": {
   "codemirror_mode": {
    "name": "ipython",
    "version": 3
   },
   "file_extension": ".py",
   "mimetype": "text/x-python",
   "name": "python",
   "nbconvert_exporter": "python",
   "pygments_lexer": "ipython3",
   "version": "3.12.2"
  }
 },
 "nbformat": 4,
 "nbformat_minor": 2
}
