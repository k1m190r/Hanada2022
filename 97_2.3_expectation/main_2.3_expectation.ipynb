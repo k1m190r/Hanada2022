{
 "cells": [
  {
   "cell_type": "code",
   "execution_count": 2,
   "metadata": {},
   "outputs": [
    {
     "data": {
      "text/plain": [
       "{'divide': 'warn', 'over': 'warn', 'under': 'ignore', 'invalid': 'warn'}"
      ]
     },
     "execution_count": 2,
     "metadata": {},
     "output_type": "execute_result"
    }
   ],
   "source": [
    "import numpy as np\n",
    "import matplotlib.pyplot as plt\n",
    "\n",
    "np.seterr(divide=\"ignore\", invalid=\"ignore\")"
   ]
  },
  {
   "cell_type": "markdown",
   "metadata": {},
   "source": [
    "# 2.3"
   ]
  },
  {
   "cell_type": "markdown",
   "metadata": {},
   "source": [
    "$$ ⟨f(x)⟩ = ∫_a^b f(x)P(x)dx \\tag{2.4} $$\n",
    "\n",
    "$$ P(x) = \\frac{1}{b-a} $$\n",
    "\n",
    "$$ ⟨f(x)⟩ = ∫_a^b f(x)P(x)dx = \\frac{1}{b-a}∫_a^b f(x) dx \\tag{2.5} $$\n"
   ]
  },
  {
   "cell_type": "markdown",
   "metadata": {},
   "source": [
    "$$ \n",
    "P(x, y) = \n",
    "\\begin{cases}\n",
    "4/π (x^2+y^2<1) \\\\\n",
    "0 (x^2+y^ 1)\n",
    "\\end{cases}\n",
    "\\tag{2.6}\n",
    "$$\n",
    "\n",
    "$$\n",
    "⟨f(x,y)⟩ = ∫_0^1 f(x,y) P(x,y) dxdy \\tag{2.7}\n",
    "$$"
   ]
  },
  {
   "cell_type": "markdown",
   "metadata": {},
   "source": [
    "$$ V_3 = \\left⟨ \\sqrt{1-x^2-y^2} \\right⟩ \\frac{π}{4} \\tag{2.8} $$\n",
    "\n",
    "$$ V_3 = 2π⟨\\sqrt{1-x^2-y^2}⟩ \\tag{2.9} $$\n",
    "\n",
    "\n",
    "$$ V_3 = \\frac{4π}{3} $$"
   ]
  },
  {
   "cell_type": "code",
   "execution_count": 3,
   "metadata": {},
   "outputs": [
    {
     "data": {
      "text/plain": [
       "4.1887902047863905"
      ]
     },
     "execution_count": 3,
     "metadata": {},
     "output_type": "execute_result"
    }
   ],
   "source": [
    "# Expected value\n",
    "4 * np.pi / 3"
   ]
  },
  {
   "cell_type": "code",
   "execution_count": 4,
   "metadata": {},
   "outputs": [
    {
     "data": {
      "text/plain": [
       "4.208436788320145"
      ]
     },
     "execution_count": 4,
     "metadata": {},
     "output_type": "execute_result"
    }
   ],
   "source": [
    "π = np.pi\n",
    "\n",
    "K = 10_000\n",
    "\n",
    "x = np.random.rand(K)\n",
    "y = np.random.rand(K)\n",
    "z = np.sqrt(1.0 - x**2 - y**2)\n",
    "\n",
    "in_circle = (x**2 + y**2) < 1.0\n",
    "n_in = in_circle.sum()\n",
    "\n",
    "V_3 = z[in_circle].sum() / n_in * 2 * π\n",
    "V_3"
   ]
  },
  {
   "cell_type": "code",
   "execution_count": null,
   "metadata": {},
   "outputs": [],
   "source": []
  },
  {
   "cell_type": "code",
   "execution_count": null,
   "metadata": {},
   "outputs": [],
   "source": []
  }
 ],
 "metadata": {
  "kernelspec": {
   "display_name": ".venv",
   "language": "python",
   "name": "python3"
  },
  "language_info": {
   "codemirror_mode": {
    "name": "ipython",
    "version": 3
   },
   "file_extension": ".py",
   "mimetype": "text/x-python",
   "name": "python",
   "nbconvert_exporter": "python",
   "pygments_lexer": "ipython3",
   "version": "3.11.8"
  }
 },
 "nbformat": 4,
 "nbformat_minor": 2
}
