{
 "cells": [
  {
   "cell_type": "code",
   "execution_count": 2,
   "metadata": {},
   "outputs": [],
   "source": [
    "import numpy as np\n",
    "import numba as nb\n",
    "from numba import njit\n",
    "import matplotlib.pyplot as plt\n"
   ]
  },
  {
   "cell_type": "code",
   "execution_count": 20,
   "metadata": {},
   "outputs": [
    {
     "name": "stdout",
     "output_type": "stream",
     "text": [
      "0.98491 0.9795716074834704\n"
     ]
    },
    {
     "data": {
      "image/png": "[encoded data removed]",
      "text/plain": [
       "<Figure size 640x480 with 1 Axes>"
      ]
     },
     "metadata": {},
     "output_type": "display_data"
    }
   ],
   "source": [
    "from numpy import pi, sqrt, log, sin, cos, exp\n",
    "from numpy.random import rand\n",
    "\n",
    "K = 100_000\n",
    "n_tau = 10\n",
    "d_tau = 0.1\n",
    "\n",
    "# box_miller\n",
    "R = rand(K)\n",
    "S = rand(K)\n",
    "P = sqrt(-2 * log(R)) * sin(2 * pi * S)\n",
    "Q = sqrt(-2 * log(R)) * cos(2 * pi * S)\n",
    "\n",
    "\n",
    "@njit\n",
    "def action(x):\n",
    "    return 0.5 * x**2\n",
    "\n",
    "\n",
    "@njit\n",
    "def hamil(x, p):\n",
    "    return action(x) + 0.5 * p**2\n",
    "\n",
    "\n",
    "@njit\n",
    "def del_h(x):\n",
    "    return x\n",
    "\n",
    "\n",
    "@njit\n",
    "def MD(k, x):\n",
    "    p = P[k]\n",
    "    init = hamil(x, p)\n",
    "\n",
    "    x = x + p * 0.5 * d_tau\n",
    "\n",
    "    for _ in range(n_tau):\n",
    "        _del_h = del_h(x)\n",
    "        p = p - _del_h * d_tau\n",
    "        x = x + p * d_tau\n",
    "\n",
    "    _del_h = del_h(x)\n",
    "    p = p - _del_h * d_tau\n",
    "    x = x + p * d_tau\n",
    "\n",
    "    fin = hamil(x, p)\n",
    "    return x, init, fin\n",
    "\n",
    "\n",
    "@njit\n",
    "def main():\n",
    "    X = np.full(K, np.nan)\n",
    "    Accept = np.full(K, False)\n",
    "    Sum_xx = np.full(K, np.nan)\n",
    "    Metro = rand(K)\n",
    "\n",
    "    X[0] = 0\n",
    "    Sum_xx[0] = 0\n",
    "\n",
    "    for k in range(1, K):\n",
    "        X[k], init, fin = MD(k, X[k - 1])\n",
    "        Accept[k] = exp(init - fin) > Metro[k]\n",
    "        X[k] = X[k] if Accept[k] else X[k - 1]\n",
    "        Sum_xx[k] = X[k] ** 2\n",
    "\n",
    "    return X, Accept, Sum_xx\n",
    "\n",
    "\n",
    "X, Accept, Sum_xx = main()\n",
    "\n",
    "##################################################\n",
    "\n",
    "plt.hist(X, 1_000, density=True)\n",
    "\n",
    "x = np.linspace(-5, 5, 1000)\n",
    "y = 1.0 / np.sqrt(2.0 * np.pi) * np.exp(-x * x / 2.0)\n",
    "plt.plot(x, y)\n",
    "\n",
    "print(Accept.sum() / K, Sum_xx.sum() / K)"
   ]
  },
  {
   "cell_type": "code",
   "execution_count": null,
   "metadata": {},
   "outputs": [],
   "source": []
  },
  {
   "cell_type": "code",
   "execution_count": null,
   "metadata": {},
   "outputs": [],
   "source": []
  }
 ],
 "metadata": {
  "kernelspec": {
   "display_name": ".venv",
   "language": "python",
   "name": "python3"
  },
  "language_info": {
   "codemirror_mode": {
    "name": "ipython",
    "version": 3
   },
   "file_extension": ".py",
   "mimetype": "text/x-python",
   "name": "python",
   "nbconvert_exporter": "python",
   "pygments_lexer": "ipython3",
   "version": "3.11.8"
  }
 },
 "nbformat": 4,
 "nbformat_minor": 2
}
