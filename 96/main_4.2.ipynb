{
 "cells": [
  {
   "cell_type": "code",
   "execution_count": 3,
   "metadata": {},
   "outputs": [],
   "source": [
    "import numpy as np\n",
    "import matplotlib.pyplot as plt\n",
    "from numba import njit, vectorize, stencil"
   ]
  },
  {
   "cell_type": "markdown",
   "metadata": {},
   "source": [
    "# 4.2 Expectation Value"
   ]
  },
  {
   "cell_type": "code",
   "execution_count": 132,
   "metadata": {},
   "outputs": [
    {
     "data": {
      "text/plain": [
       "0.9008819"
      ]
     },
     "execution_count": 132,
     "metadata": {},
     "output_type": "execute_result"
    }
   ],
   "source": [
    "exp = np.exp\n",
    "step = 0.5\n",
    "\n",
    "K = 10_000_000\n",
    "dx_rand = np.random.rand(K)\n",
    "metro_rand = np.random.rand(K)\n",
    "accept = np.full(K, False)\n",
    "x = np.full(K, np.nan)\n",
    "x[0] = 0.0\n",
    "\n",
    "for k in range(1, K):\n",
    "    init = 0.5 * x[k - 1] ** 2  # 0.5⋅x²\n",
    "    dx = (dx_rand[k] - 0.5) * step * 2.0  # ±step\n",
    "    x[k] = x[k - 1] + dx  # new x\n",
    "    fin = 0.5 * x[k] ** 2.0  # new 0.5⋅x²\n",
    "    accept[k] = exp(init - fin) > metro_rand[k]  # metro test\n",
    "    x[k] = x[k] if accept[k] else x[k - 1]\n",
    "\n",
    "accept[1:].sum() / K\n"
   ]
  },
  {
   "cell_type": "code",
   "execution_count": 135,
   "metadata": {},
   "outputs": [
    {
     "data": {
      "image/png": "[encoded data removed]",
      "text/plain": [
       "<Figure size 640x480 with 1 Axes>"
      ]
     },
     "metadata": {},
     "output_type": "display_data"
    }
   ],
   "source": [
    "plt.hist(x, 10000, density=True);"
   ]
  },
  {
   "cell_type": "code",
   "execution_count": 143,
   "metadata": {},
   "outputs": [
    {
     "data": {
      "text/plain": [
       "(array([ 0.        , -0.40608447, -0.41608325, ...,  0.78091158,\n",
       "         0.58666312,  1.02234662]),\n",
       " 0.9043636363636364)"
      ]
     },
     "execution_count": 143,
     "metadata": {},
     "output_type": "execute_result"
    }
   ],
   "source": [
    "@njit\n",
    "def run(K=1_1000):\n",
    "    step = 0.5\n",
    "\n",
    "    dx_rand = np.random.rand(K)\n",
    "    metro_rand = np.random.rand(K)\n",
    "    accept = np.full(K, False)\n",
    "    x = np.full(K, np.nan)\n",
    "    x[0] = 0.0\n",
    "\n",
    "    for k in range(1, K):\n",
    "        init = 0.5 * x[k - 1] ** 2  # 0.5⋅x²\n",
    "        dx = (dx_rand[k] - 0.5) * step * 2.0  # ±step\n",
    "        x[k] = x[k - 1] + dx  # new x\n",
    "        fin = 0.5 * x[k] ** 2.0  # new 0.5⋅x²\n",
    "        accept[k] = exp(init - fin) > metro_rand[k]  # metro test\n",
    "        x[k] = x[k] if accept[k] else x[k - 1]\n",
    "\n",
    "    return x, accept[1:].sum() / K\n",
    "\n",
    "run()"
   ]
  },
  {
   "cell_type": "code",
   "execution_count": null,
   "metadata": {},
   "outputs": [],
   "source": []
  },
  {
   "cell_type": "code",
   "execution_count": null,
   "metadata": {},
   "outputs": [],
   "source": []
  },
  {
   "cell_type": "code",
   "execution_count": null,
   "metadata": {},
   "outputs": [],
   "source": []
  }
 ],
 "metadata": {
  "kernelspec": {
   "display_name": ".venv",
   "language": "python",
   "name": "python3"
  },
  "language_info": {
   "codemirror_mode": {
    "name": "ipython",
    "version": 3
   },
   "file_extension": ".py",
   "mimetype": "text/x-python",
   "name": "python",
   "nbconvert_exporter": "python",
   "pygments_lexer": "ipython3",
   "version": "3.11.8"
  }
 },
 "nbformat": 4,
 "nbformat_minor": 2
}
