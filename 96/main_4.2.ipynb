{
 "cells": [
  {
   "cell_type": "code",
   "execution_count": 3,
   "metadata": {},
   "outputs": [],
   "source": [
    "import numpy as np\n",
    "import matplotlib.pyplot as plt\n",
    "from numba import njit, vectorize, stencil"
   ]
  },
  {
   "cell_type": "markdown",
   "metadata": {},
   "source": [
    "# 4.2 Expectation Value"
   ]
  },
  {
   "cell_type": "code",
   "execution_count": 82,
   "metadata": {},
   "outputs": [
    {
     "data": {
      "text/plain": [
       "0.8995"
      ]
     },
     "execution_count": 82,
     "metadata": {},
     "output_type": "execute_result"
    }
   ],
   "source": [
    "π = np.pi\n",
    "exp = np.exp\n",
    "step = 0.5\n",
    "\n",
    "K = 10_000\n",
    "dx_rand = np.random.rand(K)\n",
    "metro_rand = np.random.rand(K)\n",
    "accept = np.full(K, False)\n",
    "x = np.full(K, np.nan)\n",
    "x[0] = 0.0\n",
    "\n",
    "for k in range(1, K):\n",
    "    init = 0.5 * x[k - 1] ** 2\n",
    "    dx = (dx_rand[k] - 0.5) * step * 2.0\n",
    "    x[k] = x[k - 1] + dx\n",
    "    fin = 0.5 * x[k] ** 2.0\n",
    "    accept[k] = exp(init - fin) > metro_rand[k]\n",
    "    x[k] = x[k] if accept[k] else x[k - 1]\n",
    "\n",
    "accept[1:].sum() / K"
   ]
  },
  {
   "cell_type": "code",
   "execution_count": null,
   "metadata": {},
   "outputs": [],
   "source": []
  },
  {
   "cell_type": "code",
   "execution_count": null,
   "metadata": {},
   "outputs": [],
   "source": []
  },
  {
   "cell_type": "code",
   "execution_count": null,
   "metadata": {},
   "outputs": [],
   "source": []
  }
 ],
 "metadata": {
  "kernelspec": {
   "display_name": ".venv",
   "language": "python",
   "name": "python3"
  },
  "language_info": {
   "codemirror_mode": {
    "name": "ipython",
    "version": 3
   },
   "file_extension": ".py",
   "mimetype": "text/x-python",
   "name": "python",
   "nbconvert_exporter": "python",
   "pygments_lexer": "ipython3",
   "version": "3.11.8"
  }
 },
 "nbformat": 4,
 "nbformat_minor": 2
}
